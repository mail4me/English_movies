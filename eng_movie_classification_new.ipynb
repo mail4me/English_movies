{
 "cells": [
  {
   "cell_type": "markdown",
   "id": "45a7efef",
   "metadata": {},
   "source": [
    "# Классификация фильмов по сложности восприятия английского языка"
   ]
  },
  {
   "cell_type": "markdown",
   "id": "805d6f0a",
   "metadata": {},
   "source": [
    "**Задача** \n",
    "Разработать ML решение для автоматического определения уровня сложности англоязычных фильмов\n",
    "\n",
    "**Исходные данные**\n",
    "Размеченный датасет с названиями фильмов, субтитрами и меткой уровня сложности языка ( A1/A2/B1/B2/C1/C2)\n",
    "\n",
    "**Ход исследования**<br/>\n",
    " Открыть и загрузить исходные данные по ссылке: https://disk.yandex.ru/d/rQHuC6p6Ztf9Uw. Для обработки файла с субтитрами (формат srt) лучше использовать специализированную библиотеку pysrt https://github.com/byroot/pysrt. <br/>\n",
    " Провести EDA;<br/>\n",
    "Попробовать расширить датасет, получив информацию из открытых источников;<br/>\n",
    " Изучить способы решения подобных задач (примеры: библиотеки по работе с NLP, лемматизация, стемминг и т.д.). Ознакомиться с необходимыми библиотеками и подходами для обработки текстов.<br/>\n",
    " Подготовить данные для обучения модели, выбрать метрику<br/>\n",
    " Собрать baseline модель, оценить качество вашего решения и попытаться улучшить его.<br/>\n",
    "\n",
    "**Признаки**\n",
    "\n",
    "\n",
    "**Целевой признак**\n",
    "- Level — уровень владения английским языком\n",
    "\n",
    "**Уровни владения английским языком**\n",
    "\n",
    "В CEFR всего шесть уровней:\n",
    "\n",
    "- `А1` и `А2` – элементарное владение\n",
    "\n",
    "- `B1` и `B2` – самостоятельное владение\n",
    "\n",
    "- `С1` и `С2` – свободное владение."
   ]
  },
  {
   "cell_type": "markdown",
   "id": "2ed13b41",
   "metadata": {},
   "source": [
    "## Подготовка данных"
   ]
  },
  {
   "cell_type": "markdown",
   "id": "72dd66c1",
   "metadata": {},
   "source": [
    "Запрос сформирован тем, что просмотр фильмов на оригинальном языке это популярный и действенный метод прокачаться при изучении иностранных языков. Важно выбрать фильм, который подходит студенту по уровню сложности, т.ч. студент понимал 50 - 70 % диалогов. Чтобы выполнить это условие, преподаватель должен посмотреть фильм и решить, какому уровню он соответствует. Однако это требует больших временных затрат от преподавателя."
   ]
  },
  {
   "cell_type": "markdown",
   "id": "2706b7b9",
   "metadata": {},
   "source": [
    "### Изучение данных"
   ]
  },
  {
   "cell_type": "code",
   "execution_count": 557,
   "id": "b722e081",
   "metadata": {},
   "outputs": [],
   "source": [
    "\n",
    "#блок загрузки бибилиотек\n",
    "import pandas as pd\n",
    "import numpy as np\n",
    "import os\n",
    "import re\n",
    "import matplotlib.pyplot as plt\n",
    "import seaborn as sns\n",
    "import nltk\n",
    "import pysrt\n",
    "\n",
    "from sklearn.model_selection import train_test_split\n",
    "from sklearn.metrics import accuracy_score, mean_absolute_error\n",
    "\n",
    "from catboost import CatBoostClassifier, Pool\n",
    "\n",
    "from nltk.corpus import stopwords as nltk_stopwords\n",
    "from nltk.corpus import wordnet\n",
    "from nltk.stem import WordNetLemmatizer\n",
    "from nltk.probability import FreqDist\n",
    "\n",
    "import textstat\n",
    "\n",
    "RANDOM_STATE = 12345\n",
    "pd.set_option('display.max_columns', None)\n"
   ]
  },
  {
   "cell_type": "code",
   "execution_count": 558,
   "id": "6a1f8caf",
   "metadata": {},
   "outputs": [
    {
     "name": "stderr",
     "output_type": "stream",
     "text": [
      "[nltk_data] Downloading package wordnet to\n",
      "[nltk_data]     C:\\Users\\Юля\\AppData\\Roaming\\nltk_data...\n",
      "[nltk_data]   Package wordnet is already up-to-date!\n",
      "[nltk_data] Downloading package omw-1.4 to\n",
      "[nltk_data]     C:\\Users\\Юля\\AppData\\Roaming\\nltk_data...\n",
      "[nltk_data]   Package omw-1.4 is already up-to-date!\n",
      "[nltk_data] Downloading package stopwords to\n",
      "[nltk_data]     C:\\Users\\Юля\\AppData\\Roaming\\nltk_data...\n",
      "[nltk_data]   Package stopwords is already up-to-date!\n",
      "[nltk_data] Downloading package averaged_perceptron_tagger to\n",
      "[nltk_data]     C:\\Users\\Юля\\AppData\\Roaming\\nltk_data...\n",
      "[nltk_data]   Package averaged_perceptron_tagger is already up-to-\n",
      "[nltk_data]       date!\n"
     ]
    },
    {
     "data": {
      "text/plain": [
       "True"
      ]
     },
     "execution_count": 558,
     "metadata": {},
     "output_type": "execute_result"
    }
   ],
   "source": [
    "import ssl\n",
    "\n",
    "try:\n",
    "    _create_unverified_https_context = ssl._create_unverified_context\n",
    "except AttributeError:\n",
    "    pass\n",
    "else:\n",
    "    ssl._create_default_https_context = _create_unverified_https_context\n",
    "\n",
    "nltk.download('wordnet')\n",
    "nltk.download('omw-1.4')\n",
    "nltk.download('stopwords')\n",
    "nltk.download('averaged_perceptron_tagger')"
   ]
  },
  {
   "cell_type": "code",
   "execution_count": 559,
   "id": "fc5e097e",
   "metadata": {},
   "outputs": [
    {
     "data": {
      "text/html": [
       "<div>\n",
       "<style scoped>\n",
       "    .dataframe tbody tr th:only-of-type {\n",
       "        vertical-align: middle;\n",
       "    }\n",
       "\n",
       "    .dataframe tbody tr th {\n",
       "        vertical-align: top;\n",
       "    }\n",
       "\n",
       "    .dataframe thead th {\n",
       "        text-align: right;\n",
       "    }\n",
       "</style>\n",
       "<table border=\"1\" class=\"dataframe\">\n",
       "  <thead>\n",
       "    <tr style=\"text-align: right;\">\n",
       "      <th></th>\n",
       "      <th>id</th>\n",
       "      <th>Movie</th>\n",
       "      <th>Level</th>\n",
       "    </tr>\n",
       "  </thead>\n",
       "  <tbody>\n",
       "    <tr>\n",
       "      <th>0</th>\n",
       "      <td>0</td>\n",
       "      <td>10_Cloverfield_lane(2016)</td>\n",
       "      <td>B1</td>\n",
       "    </tr>\n",
       "    <tr>\n",
       "      <th>1</th>\n",
       "      <td>1</td>\n",
       "      <td>10_things_I_hate_about_you(1999)</td>\n",
       "      <td>B1</td>\n",
       "    </tr>\n",
       "    <tr>\n",
       "      <th>2</th>\n",
       "      <td>2</td>\n",
       "      <td>A_knights_tale(2001)</td>\n",
       "      <td>B2</td>\n",
       "    </tr>\n",
       "    <tr>\n",
       "      <th>3</th>\n",
       "      <td>3</td>\n",
       "      <td>A_star_is_born(2018)</td>\n",
       "      <td>B2</td>\n",
       "    </tr>\n",
       "    <tr>\n",
       "      <th>4</th>\n",
       "      <td>4</td>\n",
       "      <td>Aladdin(1992)</td>\n",
       "      <td>A2/A2+</td>\n",
       "    </tr>\n",
       "  </tbody>\n",
       "</table>\n",
       "</div>"
      ],
      "text/plain": [
       "   id                             Movie   Level\n",
       "0   0         10_Cloverfield_lane(2016)      B1\n",
       "1   1  10_things_I_hate_about_you(1999)      B1\n",
       "2   2              A_knights_tale(2001)      B2\n",
       "3   3              A_star_is_born(2018)      B2\n",
       "4   4                     Aladdin(1992)  A2/A2+"
      ]
     },
     "metadata": {},
     "output_type": "display_data"
    }
   ],
   "source": [
    "try:\n",
    "    labels = pd.read_csv('/Users/Юля/Desktop/enlish/movies_labels.csv', sep=';')\n",
    "except:\n",
    "    labels = pd.read_csv('/Users/Юля/Desktop/enlish/movies_labels.csv', sep=';')\n",
    "    \n",
    "display(labels.head()) "
   ]
  },
  {
   "cell_type": "code",
   "execution_count": 560,
   "id": "eb8963e7",
   "metadata": {},
   "outputs": [
    {
     "data": {
      "text/html": [
       "<div>\n",
       "<style scoped>\n",
       "    .dataframe tbody tr th:only-of-type {\n",
       "        vertical-align: middle;\n",
       "    }\n",
       "\n",
       "    .dataframe tbody tr th {\n",
       "        vertical-align: top;\n",
       "    }\n",
       "\n",
       "    .dataframe thead th {\n",
       "        text-align: right;\n",
       "    }\n",
       "</style>\n",
       "<table border=\"1\" class=\"dataframe\">\n",
       "  <thead>\n",
       "    <tr style=\"text-align: right;\">\n",
       "      <th></th>\n",
       "      <th>diff</th>\n",
       "      <th>word</th>\n",
       "    </tr>\n",
       "  </thead>\n",
       "  <tbody>\n",
       "    <tr>\n",
       "      <th>0</th>\n",
       "      <td>A1</td>\n",
       "      <td>improve</td>\n",
       "    </tr>\n",
       "    <tr>\n",
       "      <th>1</th>\n",
       "      <td>A1</td>\n",
       "      <td>potato</td>\n",
       "    </tr>\n",
       "    <tr>\n",
       "      <th>2</th>\n",
       "      <td>A1</td>\n",
       "      <td>night</td>\n",
       "    </tr>\n",
       "    <tr>\n",
       "      <th>3</th>\n",
       "      <td>A1</td>\n",
       "      <td>large</td>\n",
       "    </tr>\n",
       "    <tr>\n",
       "      <th>4</th>\n",
       "      <td>A1</td>\n",
       "      <td>come</td>\n",
       "    </tr>\n",
       "  </tbody>\n",
       "</table>\n",
       "</div>"
      ],
      "text/plain": [
       "  diff     word\n",
       "0   A1  improve\n",
       "1   A1   potato\n",
       "2   A1    night\n",
       "3   A1    large\n",
       "4   A1     come"
      ]
     },
     "metadata": {},
     "output_type": "display_data"
    }
   ],
   "source": [
    "# Загрузим предварительно сформированные данные о сложности слов согласно Оксфордского словаря\n",
    "try:\n",
    "    df_words = pd.read_csv('Oxsford_dikt.csv')\n",
    "except:\n",
    "    df_words = pd.read_csv('/Users/Юля/Desktop/enlish/oxford_dikt.csv')\n",
    "\n",
    "\n",
    "    \n",
    "display(df_words.head()) "
   ]
  },
  {
   "cell_type": "code",
   "execution_count": 561,
   "id": "4ce1ad06",
   "metadata": {},
   "outputs": [
    {
     "data": {
      "text/html": [
       "<div>\n",
       "<style scoped>\n",
       "    .dataframe tbody tr th:only-of-type {\n",
       "        vertical-align: middle;\n",
       "    }\n",
       "\n",
       "    .dataframe tbody tr th {\n",
       "        vertical-align: top;\n",
       "    }\n",
       "\n",
       "    .dataframe thead th {\n",
       "        text-align: right;\n",
       "    }\n",
       "</style>\n",
       "<table border=\"1\" class=\"dataframe\">\n",
       "  <thead>\n",
       "    <tr style=\"text-align: right;\">\n",
       "      <th></th>\n",
       "      <th>idiom</th>\n",
       "      <th>lem_idiom</th>\n",
       "      <th>meaning</th>\n",
       "      <th>example</th>\n",
       "    </tr>\n",
       "  </thead>\n",
       "  <tbody>\n",
       "    <tr>\n",
       "      <th>0</th>\n",
       "      <td>drop a line</td>\n",
       "      <td>drop a line</td>\n",
       "      <td>send a brief letter.</td>\n",
       "      <td>If you've got a few minutes to spare, you coul...</td>\n",
       "    </tr>\n",
       "    <tr>\n",
       "      <th>1</th>\n",
       "      <td>win the day</td>\n",
       "      <td>win the day</td>\n",
       "      <td>to be accepted by other people.</td>\n",
       "      <td>If you fail to win the day during practice, fo...</td>\n",
       "    </tr>\n",
       "    <tr>\n",
       "      <th>2</th>\n",
       "      <td>the corridors of power</td>\n",
       "      <td>the corridor of power</td>\n",
       "      <td>the office of a powerful leader.</td>\n",
       "      <td>When Jim became a clerk to a Supreme Court jus...</td>\n",
       "    </tr>\n",
       "    <tr>\n",
       "      <th>3</th>\n",
       "      <td>by all means</td>\n",
       "      <td>by all mean</td>\n",
       "      <td>in every way possible.</td>\n",
       "      <td>\"Do you mind if I go to the party?\" \"By all me...</td>\n",
       "    </tr>\n",
       "    <tr>\n",
       "      <th>4</th>\n",
       "      <td>piss and vinegar</td>\n",
       "      <td>piss and vinegar</td>\n",
       "      <td>to self-reference someone who is in a bad mood...</td>\n",
       "      <td>During the invasion, the soldiers were full of...</td>\n",
       "    </tr>\n",
       "  </tbody>\n",
       "</table>\n",
       "</div>"
      ],
      "text/plain": [
       "                    idiom              lem_idiom  \\\n",
       "0             drop a line            drop a line   \n",
       "1             win the day            win the day   \n",
       "2  the corridors of power  the corridor of power   \n",
       "3            by all means            by all mean   \n",
       "4        piss and vinegar       piss and vinegar   \n",
       "\n",
       "                                             meaning  \\\n",
       "0                               send a brief letter.   \n",
       "1                    to be accepted by other people.   \n",
       "2                   the office of a powerful leader.   \n",
       "3                             in every way possible.   \n",
       "4  to self-reference someone who is in a bad mood...   \n",
       "\n",
       "                                             example  \n",
       "0  If you've got a few minutes to spare, you coul...  \n",
       "1  If you fail to win the day during practice, fo...  \n",
       "2  When Jim became a clerk to a Supreme Court jus...  \n",
       "3  \"Do you mind if I go to the party?\" \"By all me...  \n",
       "4  During the invasion, the soldiers were full of...  "
      ]
     },
     "metadata": {},
     "output_type": "display_data"
    }
   ],
   "source": [
    "# Загрузим предварительно сформированный список идиом\n",
    "try:\n",
    "    df_idioms = pd.read_csv('/Users/Юля/Desktop/enlish/theidioms_com.csv', sep='#')\n",
    "except:\n",
    "    df_idioms = pd.read_csv('/Users/Юля/Desktop/enlish/theidioms_com.csv', sep='#')\n",
    "    \n",
    "display(df_idioms.head()) "
   ]
  },
  {
   "cell_type": "code",
   "execution_count": 562,
   "id": "eed1bed8",
   "metadata": {
    "execution": {
     "iopub.execute_input": "2023-03-03T10:16:08.415103Z",
     "iopub.status.busy": "2023-03-03T10:16:08.414649Z",
     "iopub.status.idle": "2023-03-03T10:16:08.494883Z",
     "shell.execute_reply": "2023-03-03T10:16:08.493684Z"
    },
    "papermill": {
     "duration": 0.090753,
     "end_time": "2023-03-03T10:16:08.497690",
     "exception": false,
     "start_time": "2023-03-03T10:16:08.406937",
     "status": "completed"
    },
    "tags": []
   },
   "outputs": [
    {
     "name": "stdout",
     "output_type": "stream",
     "text": [
      "<class 'pandas.core.frame.DataFrame'>\n",
      "RangeIndex: 241 entries, 0 to 240\n",
      "Data columns (total 3 columns):\n",
      " #   Column  Non-Null Count  Dtype \n",
      "---  ------  --------------  ----- \n",
      " 0   id      241 non-null    int64 \n",
      " 1   Movie   241 non-null    object\n",
      " 2   Level   241 non-null    object\n",
      "dtypes: int64(1), object(2)\n",
      "memory usage: 5.8+ KB\n"
     ]
    }
   ],
   "source": [
    "labels.info()"
   ]
  },
  {
   "cell_type": "code",
   "execution_count": 563,
   "id": "82bc23b9",
   "metadata": {},
   "outputs": [],
   "source": [
    "# переименование столбцов\n",
    "labels=labels.rename(columns = {'Movie' : 'movie', \n",
    "                         'Level' : 'level'})"
   ]
  },
  {
   "cell_type": "code",
   "execution_count": 564,
   "id": "78fd3a78",
   "metadata": {},
   "outputs": [
    {
     "data": {
      "text/html": [
       "<div>\n",
       "<style scoped>\n",
       "    .dataframe tbody tr th:only-of-type {\n",
       "        vertical-align: middle;\n",
       "    }\n",
       "\n",
       "    .dataframe tbody tr th {\n",
       "        vertical-align: top;\n",
       "    }\n",
       "\n",
       "    .dataframe thead th {\n",
       "        text-align: right;\n",
       "    }\n",
       "</style>\n",
       "<table border=\"1\" class=\"dataframe\">\n",
       "  <thead>\n",
       "    <tr style=\"text-align: right;\">\n",
       "      <th></th>\n",
       "      <th>id</th>\n",
       "      <th>movie</th>\n",
       "      <th>level</th>\n",
       "    </tr>\n",
       "  </thead>\n",
       "  <tbody>\n",
       "    <tr>\n",
       "      <th>0</th>\n",
       "      <td>0</td>\n",
       "      <td>10_Cloverfield_lane(2016)</td>\n",
       "      <td>B1</td>\n",
       "    </tr>\n",
       "    <tr>\n",
       "      <th>1</th>\n",
       "      <td>1</td>\n",
       "      <td>10_things_I_hate_about_you(1999)</td>\n",
       "      <td>B1</td>\n",
       "    </tr>\n",
       "    <tr>\n",
       "      <th>2</th>\n",
       "      <td>2</td>\n",
       "      <td>A_knights_tale(2001)</td>\n",
       "      <td>B2</td>\n",
       "    </tr>\n",
       "    <tr>\n",
       "      <th>3</th>\n",
       "      <td>3</td>\n",
       "      <td>A_star_is_born(2018)</td>\n",
       "      <td>B2</td>\n",
       "    </tr>\n",
       "    <tr>\n",
       "      <th>4</th>\n",
       "      <td>4</td>\n",
       "      <td>Aladdin(1992)</td>\n",
       "      <td>A2/A2+</td>\n",
       "    </tr>\n",
       "    <tr>\n",
       "      <th>...</th>\n",
       "      <td>...</td>\n",
       "      <td>...</td>\n",
       "      <td>...</td>\n",
       "    </tr>\n",
       "    <tr>\n",
       "      <th>236</th>\n",
       "      <td>236</td>\n",
       "      <td>Matilda(2022)</td>\n",
       "      <td>C1</td>\n",
       "    </tr>\n",
       "    <tr>\n",
       "      <th>237</th>\n",
       "      <td>237</td>\n",
       "      <td>Bullet train</td>\n",
       "      <td>B1</td>\n",
       "    </tr>\n",
       "    <tr>\n",
       "      <th>238</th>\n",
       "      <td>238</td>\n",
       "      <td>Thor: love and thunder</td>\n",
       "      <td>B2</td>\n",
       "    </tr>\n",
       "    <tr>\n",
       "      <th>239</th>\n",
       "      <td>239</td>\n",
       "      <td>Lightyear</td>\n",
       "      <td>B2</td>\n",
       "    </tr>\n",
       "    <tr>\n",
       "      <th>240</th>\n",
       "      <td>240</td>\n",
       "      <td>The Grinch</td>\n",
       "      <td>B1</td>\n",
       "    </tr>\n",
       "  </tbody>\n",
       "</table>\n",
       "<p>241 rows × 3 columns</p>\n",
       "</div>"
      ],
      "text/plain": [
       "      id                             movie   level\n",
       "0      0         10_Cloverfield_lane(2016)      B1\n",
       "1      1  10_things_I_hate_about_you(1999)      B1\n",
       "2      2              A_knights_tale(2001)      B2\n",
       "3      3              A_star_is_born(2018)      B2\n",
       "4      4                     Aladdin(1992)  A2/A2+\n",
       "..   ...                               ...     ...\n",
       "236  236                     Matilda(2022)      C1\n",
       "237  237                      Bullet train      B1\n",
       "238  238            Thor: love and thunder      B2\n",
       "239  239                         Lightyear      B2\n",
       "240  240                        The Grinch      B1\n",
       "\n",
       "[241 rows x 3 columns]"
      ]
     },
     "metadata": {},
     "output_type": "display_data"
    }
   ],
   "source": [
    "display(labels)\n",
    "#labels.columns"
   ]
  },
  {
   "cell_type": "code",
   "execution_count": 565,
   "id": "aef82238",
   "metadata": {},
   "outputs": [
    {
     "name": "stdout",
     "output_type": "stream",
     "text": [
      "0          B1\n",
      "1          B1\n",
      "2          B2\n",
      "3          B2\n",
      "4      A2/A2+\n",
      "        ...  \n",
      "236        C1\n",
      "237        B1\n",
      "238        B2\n",
      "239        B2\n",
      "240        B1\n",
      "Name: level, Length: 241, dtype: object\n"
     ]
    }
   ],
   "source": [
    "print(labels['level'])"
   ]
  },
  {
   "cell_type": "code",
   "execution_count": 566,
   "id": "376d6ba1",
   "metadata": {},
   "outputs": [
    {
     "data": {
      "text/plain": [
       "B2            101\n",
       "B1             55\n",
       "C1             40\n",
       "A2/A2+         26\n",
       "B1, B2          8\n",
       "A2              6\n",
       "A2/A2+, B1      5\n",
       "Name: level, dtype: int64"
      ]
     },
     "execution_count": 566,
     "metadata": {},
     "output_type": "execute_result"
    }
   ],
   "source": [
    "# распределение фильмов по уровням сложности\n",
    "labels['level'].value_counts()"
   ]
  },
  {
   "cell_type": "code",
   "execution_count": 567,
   "id": "e777f070",
   "metadata": {
    "execution": {
     "iopub.execute_input": "2023-03-03T10:16:08.513434Z",
     "iopub.status.busy": "2023-03-03T10:16:08.512214Z",
     "iopub.status.idle": "2023-03-03T10:16:08.572806Z",
     "shell.execute_reply": "2023-03-03T10:16:08.570199Z"
    },
    "papermill": {
     "duration": 0.071455,
     "end_time": "2023-03-03T10:16:08.575735",
     "exception": false,
     "start_time": "2023-03-03T10:16:08.504280",
     "status": "completed"
    },
    "tags": []
   },
   "outputs": [],
   "source": [
    "# для упрощения градаций преобразуем уровни сложности до минимального\n",
    "labels.loc[labels.level == 'A2/A2+', 'level'] = 'A2'\n",
    "labels.loc[labels.level == 'B1, B2', 'level'] = 'B1'\n",
    "labels.loc[labels.level == 'A2/A2+, B1', 'level'] = 'A2'"
   ]
  },
  {
   "cell_type": "code",
   "execution_count": 568,
   "id": "429f95d9",
   "metadata": {},
   "outputs": [
    {
     "data": {
      "text/plain": [
       "B2    101\n",
       "B1     63\n",
       "C1     40\n",
       "A2     37\n",
       "Name: level, dtype: int64"
      ]
     },
     "execution_count": 568,
     "metadata": {},
     "output_type": "execute_result"
    }
   ],
   "source": [
    "# распределение фильмов по уровням сложности\n",
    "labels['level'].value_counts()"
   ]
  },
  {
   "cell_type": "code",
   "execution_count": 569,
   "id": "264e258b",
   "metadata": {},
   "outputs": [
    {
     "data": {
      "image/png": "[encoded data removed]",
      "text/plain": [
       "<Figure size 432x288 with 1 Axes>"
      ]
     },
     "metadata": {
      "needs_background": "light"
     },
     "output_type": "display_data"
    }
   ],
   "source": [
    "# график количества фильмов в датасете по уровням сложности\n",
    "labels['level'].value_counts().plot(\n",
    "    kind='bar', title='Количество фильмов по уровням сложности', grid=True,\n",
    "    xlabel='Уровень сложности', ylabel='Количество фильмов', rot=0\n",
    ");"
   ]
  },
  {
   "cell_type": "code",
   "execution_count": 570,
   "id": "a4694f1a",
   "metadata": {
    "execution": {
     "iopub.execute_input": "2023-03-03T10:16:08.591417Z",
     "iopub.status.busy": "2023-03-03T10:16:08.590940Z",
     "iopub.status.idle": "2023-03-03T10:16:08.603145Z",
     "shell.execute_reply": "2023-03-03T10:16:08.602053Z"
    },
    "papermill": {
     "duration": 0.022831,
     "end_time": "2023-03-03T10:16:08.605849",
     "exception": false,
     "start_time": "2023-03-03T10:16:08.583018",
     "status": "completed"
    },
    "tags": []
   },
   "outputs": [],
   "source": [
    "# папка с файлами субтитров\n",
    "srt_path = '/Users/Юля/Desktop/enlish/Subtitles_all/subtitles_all'\n",
    "#C:\\Users\\Юля\\Desktop\\enlish\\Subtitles_all\\subtitles_all"
   ]
  },
  {
   "cell_type": "code",
   "execution_count": 571,
   "id": "007f69ce",
   "metadata": {
    "execution": {
     "iopub.execute_input": "2023-03-03T10:16:08.621480Z",
     "iopub.status.busy": "2023-03-03T10:16:08.621068Z",
     "iopub.status.idle": "2023-03-03T10:16:08.641160Z",
     "shell.execute_reply": "2023-03-03T10:16:08.639897Z"
    },
    "papermill": {
     "duration": 0.031187,
     "end_time": "2023-03-03T10:16:08.643933",
     "exception": false,
     "start_time": "2023-03-03T10:16:08.612746",
     "status": "completed"
    },
    "scrolled": true,
    "tags": []
   },
   "outputs": [
    {
     "data": {
      "text/plain": [
       "['.DS_Store',\n",
       " '10_Cloverfield_lane(2016).srt',\n",
       " '10_things_I_hate_about_you(1999).srt',\n",
       " 'Aladdin(1992).srt',\n",
       " 'All_dogs_go_to_heaven(1989).srt']"
      ]
     },
     "execution_count": 571,
     "metadata": {},
     "output_type": "execute_result"
    }
   ],
   "source": [
    "# получим список файлов с субтитрами\n",
    "srt_files = os.listdir(srt_path)\n",
    "\n",
    "# первые 5 файлов\n",
    "srt_files[:5]"
   ]
  },
  {
   "cell_type": "code",
   "execution_count": 572,
   "id": "d96b7bd2",
   "metadata": {
    "execution": {
     "iopub.execute_input": "2023-03-03T10:16:08.659834Z",
     "iopub.status.busy": "2023-03-03T10:16:08.659145Z",
     "iopub.status.idle": "2023-03-03T10:16:08.677477Z",
     "shell.execute_reply": "2023-03-03T10:16:08.676564Z"
    },
    "papermill": {
     "duration": 0.029332,
     "end_time": "2023-03-03T10:16:08.680118",
     "exception": false,
     "start_time": "2023-03-03T10:16:08.650786",
     "status": "completed"
    },
    "tags": []
   },
   "outputs": [],
   "source": [
    "# функция сопоставления названия фильма и имени файла субтитров\n",
    "def fill_file_path(movie):\n",
    "    \"\"\"\n",
    "    функция по названию фильма ищет соответствующее имя файла\n",
    "    и возвращает его, иначе, возвращает пустую строку\n",
    "    \"\"\"\n",
    "    file_path = ''\n",
    "    # ищем соответсвующее имя файла в списке\n",
    "    for i in range(len(srt_files)):\n",
    "        file = srt_files[i]\n",
    "        # если есть совпадение\n",
    "        if file.find(movie) >= 0:\n",
    "            file_path = os.path.join(srt_path, srt_files[i])\n",
    "    return file_path"
   ]
  },
  {
   "cell_type": "code",
   "execution_count": 573,
   "id": "fd01552e",
   "metadata": {},
   "outputs": [],
   "source": [
    "# функция сопоставления названия фильма и имени файла субтитров\n",
    "def fill_file_name(movie):\n",
    "    \"\"\"\n",
    "    функция по названию фильма ищет соответствующее имя файла\n",
    "    и возвращает его, иначе, возвращает пустую строку\n",
    "    \"\"\"\n",
    "    file_name = ''\n",
    "    # ищем соответсвующее имя файла в списке\n",
    "    for i in range(len(srt_files)):\n",
    "        file = srt_files[i]\n",
    "        # если есть совпадение\n",
    "        if file.find(movie) >= 0:\n",
    "            file_name = srt_files[i]\n",
    "    return file_name"
   ]
  },
  {
   "cell_type": "code",
   "execution_count": 574,
   "id": "233b98f9",
   "metadata": {
    "execution": {
     "iopub.execute_input": "2023-03-03T10:16:08.696593Z",
     "iopub.status.busy": "2023-03-03T10:16:08.695911Z",
     "iopub.status.idle": "2023-03-03T10:16:08.715653Z",
     "shell.execute_reply": "2023-03-03T10:16:08.714318Z"
    },
    "papermill": {
     "duration": 0.0309,
     "end_time": "2023-03-03T10:16:08.718017",
     "exception": false,
     "start_time": "2023-03-03T10:16:08.687117",
     "status": "completed"
    },
    "tags": []
   },
   "outputs": [
    {
     "data": {
      "text/plain": [
       "'Suits.S03E10.HDTV.x264-mSD.srt'"
      ]
     },
     "execution_count": 574,
     "metadata": {},
     "output_type": "execute_result"
    }
   ],
   "source": [
    "# проверим работу функции\n",
    "fill_file_name('Suits.S03E10.HDTV.x264-mSD')"
   ]
  },
  {
   "cell_type": "code",
   "execution_count": 575,
   "id": "df4798a6",
   "metadata": {},
   "outputs": [
    {
     "data": {
      "text/plain": [
       "'/Users/Юля/Desktop/enlish/Subtitles_all/subtitles_all\\\\Suits.S03E10.HDTV.x264-mSD.srt'"
      ]
     },
     "execution_count": 575,
     "metadata": {},
     "output_type": "execute_result"
    }
   ],
   "source": [
    "# проверим работу функции\n",
    "fill_file_path('Suits.S03E10.HDTV.x264-mSD')"
   ]
  },
  {
   "cell_type": "code",
   "execution_count": 576,
   "id": "25596c5c",
   "metadata": {},
   "outputs": [],
   "source": [
    "# копируем названия фильмов в новую колонку\n",
    "labels['file'] = labels['movie']"
   ]
  },
  {
   "cell_type": "code",
   "execution_count": 577,
   "id": "e5c1dbc7",
   "metadata": {
    "scrolled": true
   },
   "outputs": [
    {
     "data": {
      "text/html": [
       "<div>\n",
       "<style scoped>\n",
       "    .dataframe tbody tr th:only-of-type {\n",
       "        vertical-align: middle;\n",
       "    }\n",
       "\n",
       "    .dataframe tbody tr th {\n",
       "        vertical-align: top;\n",
       "    }\n",
       "\n",
       "    .dataframe thead th {\n",
       "        text-align: right;\n",
       "    }\n",
       "</style>\n",
       "<table border=\"1\" class=\"dataframe\">\n",
       "  <thead>\n",
       "    <tr style=\"text-align: right;\">\n",
       "      <th></th>\n",
       "      <th>id</th>\n",
       "      <th>movie</th>\n",
       "      <th>level</th>\n",
       "      <th>file</th>\n",
       "    </tr>\n",
       "  </thead>\n",
       "  <tbody>\n",
       "    <tr>\n",
       "      <th>0</th>\n",
       "      <td>0</td>\n",
       "      <td>10_Cloverfield_lane(2016)</td>\n",
       "      <td>B1</td>\n",
       "      <td>10_Cloverfield_lane(2016)</td>\n",
       "    </tr>\n",
       "    <tr>\n",
       "      <th>1</th>\n",
       "      <td>1</td>\n",
       "      <td>10_things_I_hate_about_you(1999)</td>\n",
       "      <td>B1</td>\n",
       "      <td>10_things_I_hate_about_you(1999)</td>\n",
       "    </tr>\n",
       "    <tr>\n",
       "      <th>2</th>\n",
       "      <td>2</td>\n",
       "      <td>A_knights_tale(2001)</td>\n",
       "      <td>B2</td>\n",
       "      <td>A_knights_tale(2001)</td>\n",
       "    </tr>\n",
       "    <tr>\n",
       "      <th>3</th>\n",
       "      <td>3</td>\n",
       "      <td>A_star_is_born(2018)</td>\n",
       "      <td>B2</td>\n",
       "      <td>A_star_is_born(2018)</td>\n",
       "    </tr>\n",
       "    <tr>\n",
       "      <th>4</th>\n",
       "      <td>4</td>\n",
       "      <td>Aladdin(1992)</td>\n",
       "      <td>A2</td>\n",
       "      <td>Aladdin(1992)</td>\n",
       "    </tr>\n",
       "    <tr>\n",
       "      <th>...</th>\n",
       "      <td>...</td>\n",
       "      <td>...</td>\n",
       "      <td>...</td>\n",
       "      <td>...</td>\n",
       "    </tr>\n",
       "    <tr>\n",
       "      <th>236</th>\n",
       "      <td>236</td>\n",
       "      <td>Matilda(2022)</td>\n",
       "      <td>C1</td>\n",
       "      <td>Matilda(2022)</td>\n",
       "    </tr>\n",
       "    <tr>\n",
       "      <th>237</th>\n",
       "      <td>237</td>\n",
       "      <td>Bullet train</td>\n",
       "      <td>B1</td>\n",
       "      <td>Bullet train</td>\n",
       "    </tr>\n",
       "    <tr>\n",
       "      <th>238</th>\n",
       "      <td>238</td>\n",
       "      <td>Thor: love and thunder</td>\n",
       "      <td>B2</td>\n",
       "      <td>Thor: love and thunder</td>\n",
       "    </tr>\n",
       "    <tr>\n",
       "      <th>239</th>\n",
       "      <td>239</td>\n",
       "      <td>Lightyear</td>\n",
       "      <td>B2</td>\n",
       "      <td>Lightyear</td>\n",
       "    </tr>\n",
       "    <tr>\n",
       "      <th>240</th>\n",
       "      <td>240</td>\n",
       "      <td>The Grinch</td>\n",
       "      <td>B1</td>\n",
       "      <td>The Grinch</td>\n",
       "    </tr>\n",
       "  </tbody>\n",
       "</table>\n",
       "<p>241 rows × 4 columns</p>\n",
       "</div>"
      ],
      "text/plain": [
       "      id                             movie level  \\\n",
       "0      0         10_Cloverfield_lane(2016)    B1   \n",
       "1      1  10_things_I_hate_about_you(1999)    B1   \n",
       "2      2              A_knights_tale(2001)    B2   \n",
       "3      3              A_star_is_born(2018)    B2   \n",
       "4      4                     Aladdin(1992)    A2   \n",
       "..   ...                               ...   ...   \n",
       "236  236                     Matilda(2022)    C1   \n",
       "237  237                      Bullet train    B1   \n",
       "238  238            Thor: love and thunder    B2   \n",
       "239  239                         Lightyear    B2   \n",
       "240  240                        The Grinch    B1   \n",
       "\n",
       "                                 file  \n",
       "0           10_Cloverfield_lane(2016)  \n",
       "1    10_things_I_hate_about_you(1999)  \n",
       "2                A_knights_tale(2001)  \n",
       "3                A_star_is_born(2018)  \n",
       "4                       Aladdin(1992)  \n",
       "..                                ...  \n",
       "236                     Matilda(2022)  \n",
       "237                      Bullet train  \n",
       "238            Thor: love and thunder  \n",
       "239                         Lightyear  \n",
       "240                        The Grinch  \n",
       "\n",
       "[241 rows x 4 columns]"
      ]
     },
     "metadata": {},
     "output_type": "display_data"
    }
   ],
   "source": [
    "display(labels)"
   ]
  },
  {
   "cell_type": "code",
   "execution_count": 578,
   "id": "ac6ff51c",
   "metadata": {},
   "outputs": [],
   "source": [
    "labels['file_path'] = labels['movie'].apply(fill_file_path)"
   ]
  },
  {
   "cell_type": "code",
   "execution_count": 579,
   "id": "f4366d0d",
   "metadata": {},
   "outputs": [],
   "source": [
    "# применяем функцию для заполнения\n",
    "#labels['file_path'] = labels['movie'].apply(fill_file_path)\n",
    "labels['file_name'] = labels['movie'].apply(fill_file_name)"
   ]
  },
  {
   "cell_type": "code",
   "execution_count": 580,
   "id": "5e0dbe47",
   "metadata": {
    "execution": {
     "iopub.execute_input": "2023-03-03T10:16:08.733658Z",
     "iopub.status.busy": "2023-03-03T10:16:08.733247Z",
     "iopub.status.idle": "2023-03-03T10:16:08.760955Z",
     "shell.execute_reply": "2023-03-03T10:16:08.759935Z"
    },
    "papermill": {
     "duration": 0.038809,
     "end_time": "2023-03-03T10:16:08.763810",
     "exception": false,
     "start_time": "2023-03-03T10:16:08.725001",
     "status": "completed"
    },
    "scrolled": true,
    "tags": []
   },
   "outputs": [
    {
     "data": {
      "text/html": [
       "<div>\n",
       "<style scoped>\n",
       "    .dataframe tbody tr th:only-of-type {\n",
       "        vertical-align: middle;\n",
       "    }\n",
       "\n",
       "    .dataframe tbody tr th {\n",
       "        vertical-align: top;\n",
       "    }\n",
       "\n",
       "    .dataframe thead th {\n",
       "        text-align: right;\n",
       "    }\n",
       "</style>\n",
       "<table border=\"1\" class=\"dataframe\">\n",
       "  <thead>\n",
       "    <tr style=\"text-align: right;\">\n",
       "      <th></th>\n",
       "      <th>id</th>\n",
       "      <th>movie</th>\n",
       "      <th>level</th>\n",
       "      <th>file</th>\n",
       "      <th>file_path</th>\n",
       "      <th>file_name</th>\n",
       "    </tr>\n",
       "  </thead>\n",
       "  <tbody>\n",
       "    <tr>\n",
       "      <th>0</th>\n",
       "      <td>0</td>\n",
       "      <td>10_Cloverfield_lane(2016)</td>\n",
       "      <td>B1</td>\n",
       "      <td>10_Cloverfield_lane(2016)</td>\n",
       "      <td>/Users/Юля/Desktop/enlish/Subtitles_all/subtit...</td>\n",
       "      <td>10_Cloverfield_lane(2016).srt</td>\n",
       "    </tr>\n",
       "    <tr>\n",
       "      <th>1</th>\n",
       "      <td>1</td>\n",
       "      <td>10_things_I_hate_about_you(1999)</td>\n",
       "      <td>B1</td>\n",
       "      <td>10_things_I_hate_about_you(1999)</td>\n",
       "      <td>/Users/Юля/Desktop/enlish/Subtitles_all/subtit...</td>\n",
       "      <td>10_things_I_hate_about_you(1999).srt</td>\n",
       "    </tr>\n",
       "    <tr>\n",
       "      <th>2</th>\n",
       "      <td>2</td>\n",
       "      <td>A_knights_tale(2001)</td>\n",
       "      <td>B2</td>\n",
       "      <td>A_knights_tale(2001)</td>\n",
       "      <td>/Users/Юля/Desktop/enlish/Subtitles_all/subtit...</td>\n",
       "      <td>A_knights_tale(2001).srt</td>\n",
       "    </tr>\n",
       "    <tr>\n",
       "      <th>3</th>\n",
       "      <td>3</td>\n",
       "      <td>A_star_is_born(2018)</td>\n",
       "      <td>B2</td>\n",
       "      <td>A_star_is_born(2018)</td>\n",
       "      <td>/Users/Юля/Desktop/enlish/Subtitles_all/subtit...</td>\n",
       "      <td>A_star_is_born(2018).srt</td>\n",
       "    </tr>\n",
       "    <tr>\n",
       "      <th>4</th>\n",
       "      <td>4</td>\n",
       "      <td>Aladdin(1992)</td>\n",
       "      <td>A2</td>\n",
       "      <td>Aladdin(1992)</td>\n",
       "      <td>/Users/Юля/Desktop/enlish/Subtitles_all/subtit...</td>\n",
       "      <td>Aladdin(1992).srt</td>\n",
       "    </tr>\n",
       "  </tbody>\n",
       "</table>\n",
       "</div>"
      ],
      "text/plain": [
       "   id                             movie level  \\\n",
       "0   0         10_Cloverfield_lane(2016)    B1   \n",
       "1   1  10_things_I_hate_about_you(1999)    B1   \n",
       "2   2              A_knights_tale(2001)    B2   \n",
       "3   3              A_star_is_born(2018)    B2   \n",
       "4   4                     Aladdin(1992)    A2   \n",
       "\n",
       "                               file  \\\n",
       "0         10_Cloverfield_lane(2016)   \n",
       "1  10_things_I_hate_about_you(1999)   \n",
       "2              A_knights_tale(2001)   \n",
       "3              A_star_is_born(2018)   \n",
       "4                     Aladdin(1992)   \n",
       "\n",
       "                                           file_path  \\\n",
       "0  /Users/Юля/Desktop/enlish/Subtitles_all/subtit...   \n",
       "1  /Users/Юля/Desktop/enlish/Subtitles_all/subtit...   \n",
       "2  /Users/Юля/Desktop/enlish/Subtitles_all/subtit...   \n",
       "3  /Users/Юля/Desktop/enlish/Subtitles_all/subtit...   \n",
       "4  /Users/Юля/Desktop/enlish/Subtitles_all/subtit...   \n",
       "\n",
       "                              file_name  \n",
       "0         10_Cloverfield_lane(2016).srt  \n",
       "1  10_things_I_hate_about_you(1999).srt  \n",
       "2              A_knights_tale(2001).srt  \n",
       "3              A_star_is_born(2018).srt  \n",
       "4                     Aladdin(1992).srt  "
      ]
     },
     "execution_count": 580,
     "metadata": {},
     "output_type": "execute_result"
    }
   ],
   "source": [
    "\n",
    "# результат заполнения\n",
    "labels.head()"
   ]
  },
  {
   "cell_type": "code",
   "execution_count": 581,
   "id": "266cf6b4",
   "metadata": {},
   "outputs": [
    {
     "name": "stdout",
     "output_type": "stream",
     "text": [
      "0      /Users/Юля/Desktop/enlish/Subtitles_all/subtit...\n",
      "1      /Users/Юля/Desktop/enlish/Subtitles_all/subtit...\n",
      "2      /Users/Юля/Desktop/enlish/Subtitles_all/subtit...\n",
      "3      /Users/Юля/Desktop/enlish/Subtitles_all/subtit...\n",
      "4      /Users/Юля/Desktop/enlish/Subtitles_all/subtit...\n",
      "                             ...                        \n",
      "236                                                     \n",
      "237                                                     \n",
      "238                                                     \n",
      "239                                                     \n",
      "240                                                     \n",
      "Name: file_path, Length: 241, dtype: object\n"
     ]
    }
   ],
   "source": [
    "print(labels['file_path'])"
   ]
  },
  {
   "cell_type": "code",
   "execution_count": 582,
   "id": "2198c739",
   "metadata": {
    "execution": {
     "iopub.execute_input": "2023-03-03T10:16:08.779416Z",
     "iopub.status.busy": "2023-03-03T10:16:08.778960Z",
     "iopub.status.idle": "2023-03-03T10:16:08.790776Z",
     "shell.execute_reply": "2023-03-03T10:16:08.789751Z"
    },
    "papermill": {
     "duration": 0.022394,
     "end_time": "2023-03-03T10:16:08.793153",
     "exception": false,
     "start_time": "2023-03-03T10:16:08.770759",
     "status": "completed"
    },
    "tags": []
   },
   "outputs": [
    {
     "data": {
      "text/html": [
       "<div>\n",
       "<style scoped>\n",
       "    .dataframe tbody tr th:only-of-type {\n",
       "        vertical-align: middle;\n",
       "    }\n",
       "\n",
       "    .dataframe tbody tr th {\n",
       "        vertical-align: top;\n",
       "    }\n",
       "\n",
       "    .dataframe thead th {\n",
       "        text-align: right;\n",
       "    }\n",
       "</style>\n",
       "<table border=\"1\" class=\"dataframe\">\n",
       "  <thead>\n",
       "    <tr style=\"text-align: right;\">\n",
       "      <th></th>\n",
       "      <th>id</th>\n",
       "      <th>movie</th>\n",
       "      <th>level</th>\n",
       "      <th>file</th>\n",
       "      <th>file_path</th>\n",
       "      <th>file_name</th>\n",
       "    </tr>\n",
       "  </thead>\n",
       "  <tbody>\n",
       "  </tbody>\n",
       "</table>\n",
       "</div>"
      ],
      "text/plain": [
       "Empty DataFrame\n",
       "Columns: [id, movie, level, file, file_path, file_name]\n",
       "Index: []"
      ]
     },
     "execution_count": 582,
     "metadata": {},
     "output_type": "execute_result"
    }
   ],
   "source": [
    "\n",
    "labels[labels['file'] == '']"
   ]
  },
  {
   "cell_type": "code",
   "execution_count": 583,
   "id": "4ffd6f6a",
   "metadata": {},
   "outputs": [
    {
     "data": {
      "text/html": [
       "<div>\n",
       "<style scoped>\n",
       "    .dataframe tbody tr th:only-of-type {\n",
       "        vertical-align: middle;\n",
       "    }\n",
       "\n",
       "    .dataframe tbody tr th {\n",
       "        vertical-align: top;\n",
       "    }\n",
       "\n",
       "    .dataframe thead th {\n",
       "        text-align: right;\n",
       "    }\n",
       "</style>\n",
       "<table border=\"1\" class=\"dataframe\">\n",
       "  <thead>\n",
       "    <tr style=\"text-align: right;\">\n",
       "      <th></th>\n",
       "      <th>id</th>\n",
       "      <th>movie</th>\n",
       "      <th>level</th>\n",
       "      <th>file</th>\n",
       "      <th>file_path</th>\n",
       "      <th>file_name</th>\n",
       "    </tr>\n",
       "  </thead>\n",
       "  <tbody>\n",
       "    <tr>\n",
       "      <th>43</th>\n",
       "      <td>43</td>\n",
       "      <td>Inside_out(2015)</td>\n",
       "      <td>B1</td>\n",
       "      <td>Inside_out(2015)</td>\n",
       "      <td>/Users/Юля/Desktop/enlish/Subtitles_all/subtit...</td>\n",
       "      <td>Inside_out(2015).srt</td>\n",
       "    </tr>\n",
       "    <tr>\n",
       "      <th>44</th>\n",
       "      <td>44</td>\n",
       "      <td>Inside_out(2015)</td>\n",
       "      <td>B1</td>\n",
       "      <td>Inside_out(2015)</td>\n",
       "      <td>/Users/Юля/Desktop/enlish/Subtitles_all/subtit...</td>\n",
       "      <td>Inside_out(2015).srt</td>\n",
       "    </tr>\n",
       "    <tr>\n",
       "      <th>38</th>\n",
       "      <td>38</td>\n",
       "      <td>Powder(1995)</td>\n",
       "      <td>B1</td>\n",
       "      <td>Powder(1995)</td>\n",
       "      <td>/Users/Юля/Desktop/enlish/Subtitles_all/subtit...</td>\n",
       "      <td>Powder(1995).srt</td>\n",
       "    </tr>\n",
       "    <tr>\n",
       "      <th>68</th>\n",
       "      <td>68</td>\n",
       "      <td>Powder(1995)</td>\n",
       "      <td>B1</td>\n",
       "      <td>Powder(1995)</td>\n",
       "      <td>/Users/Юля/Desktop/enlish/Subtitles_all/subtit...</td>\n",
       "      <td>Powder(1995).srt</td>\n",
       "    </tr>\n",
       "    <tr>\n",
       "      <th>75</th>\n",
       "      <td>75</td>\n",
       "      <td>The_blind_side(2009)</td>\n",
       "      <td>B2</td>\n",
       "      <td>The_blind_side(2009)</td>\n",
       "      <td>/Users/Юля/Desktop/enlish/Subtitles_all/subtit...</td>\n",
       "      <td>The_blind_side(2009).srt</td>\n",
       "    </tr>\n",
       "    <tr>\n",
       "      <th>84</th>\n",
       "      <td>84</td>\n",
       "      <td>The_blind_side(2009)</td>\n",
       "      <td>B1</td>\n",
       "      <td>The_blind_side(2009)</td>\n",
       "      <td>/Users/Юля/Desktop/enlish/Subtitles_all/subtit...</td>\n",
       "      <td>The_blind_side(2009).srt</td>\n",
       "    </tr>\n",
       "    <tr>\n",
       "      <th>83</th>\n",
       "      <td>83</td>\n",
       "      <td>The_terminal(2004)</td>\n",
       "      <td>B1</td>\n",
       "      <td>The_terminal(2004)</td>\n",
       "      <td>/Users/Юля/Desktop/enlish/Subtitles_all/subtit...</td>\n",
       "      <td>The_terminal(2004).srt</td>\n",
       "    </tr>\n",
       "    <tr>\n",
       "      <th>99</th>\n",
       "      <td>99</td>\n",
       "      <td>The_terminal(2004)</td>\n",
       "      <td>A2</td>\n",
       "      <td>The_terminal(2004)</td>\n",
       "      <td>/Users/Юля/Desktop/enlish/Subtitles_all/subtit...</td>\n",
       "      <td>The_terminal(2004).srt</td>\n",
       "    </tr>\n",
       "  </tbody>\n",
       "</table>\n",
       "</div>"
      ],
      "text/plain": [
       "    id                 movie level                  file  \\\n",
       "43  43      Inside_out(2015)    B1      Inside_out(2015)   \n",
       "44  44      Inside_out(2015)    B1      Inside_out(2015)   \n",
       "38  38          Powder(1995)    B1          Powder(1995)   \n",
       "68  68          Powder(1995)    B1          Powder(1995)   \n",
       "75  75  The_blind_side(2009)    B2  The_blind_side(2009)   \n",
       "84  84  The_blind_side(2009)    B1  The_blind_side(2009)   \n",
       "83  83    The_terminal(2004)    B1    The_terminal(2004)   \n",
       "99  99    The_terminal(2004)    A2    The_terminal(2004)   \n",
       "\n",
       "                                            file_path  \\\n",
       "43  /Users/Юля/Desktop/enlish/Subtitles_all/subtit...   \n",
       "44  /Users/Юля/Desktop/enlish/Subtitles_all/subtit...   \n",
       "38  /Users/Юля/Desktop/enlish/Subtitles_all/subtit...   \n",
       "68  /Users/Юля/Desktop/enlish/Subtitles_all/subtit...   \n",
       "75  /Users/Юля/Desktop/enlish/Subtitles_all/subtit...   \n",
       "84  /Users/Юля/Desktop/enlish/Subtitles_all/subtit...   \n",
       "83  /Users/Юля/Desktop/enlish/Subtitles_all/subtit...   \n",
       "99  /Users/Юля/Desktop/enlish/Subtitles_all/subtit...   \n",
       "\n",
       "                   file_name  \n",
       "43      Inside_out(2015).srt  \n",
       "44      Inside_out(2015).srt  \n",
       "38          Powder(1995).srt  \n",
       "68          Powder(1995).srt  \n",
       "75  The_blind_side(2009).srt  \n",
       "84  The_blind_side(2009).srt  \n",
       "83    The_terminal(2004).srt  \n",
       "99    The_terminal(2004).srt  "
      ]
     },
     "execution_count": 583,
     "metadata": {},
     "output_type": "execute_result"
    }
   ],
   "source": [
    "\n",
    "labels[labels.file.duplicated(keep=False)].sort_values('file')"
   ]
  },
  {
   "cell_type": "code",
   "execution_count": 584,
   "id": "9fbd84c8",
   "metadata": {},
   "outputs": [
    {
     "data": {
      "text/html": [
       "<div>\n",
       "<style scoped>\n",
       "    .dataframe tbody tr th:only-of-type {\n",
       "        vertical-align: middle;\n",
       "    }\n",
       "\n",
       "    .dataframe tbody tr th {\n",
       "        vertical-align: top;\n",
       "    }\n",
       "\n",
       "    .dataframe thead th {\n",
       "        text-align: right;\n",
       "    }\n",
       "</style>\n",
       "<table border=\"1\" class=\"dataframe\">\n",
       "  <thead>\n",
       "    <tr style=\"text-align: right;\">\n",
       "      <th></th>\n",
       "      <th>id</th>\n",
       "      <th>movie</th>\n",
       "      <th>level</th>\n",
       "      <th>file</th>\n",
       "      <th>file_path</th>\n",
       "      <th>file_name</th>\n",
       "    </tr>\n",
       "  </thead>\n",
       "  <tbody>\n",
       "    <tr>\n",
       "      <th>0</th>\n",
       "      <td>0</td>\n",
       "      <td>10_Cloverfield_lane(2016)</td>\n",
       "      <td>B1</td>\n",
       "      <td>10_Cloverfield_lane(2016)</td>\n",
       "      <td>/Users/Юля/Desktop/enlish/Subtitles_all/subtit...</td>\n",
       "      <td>10_Cloverfield_lane(2016).srt</td>\n",
       "    </tr>\n",
       "    <tr>\n",
       "      <th>1</th>\n",
       "      <td>1</td>\n",
       "      <td>10_things_I_hate_about_you(1999)</td>\n",
       "      <td>B1</td>\n",
       "      <td>10_things_I_hate_about_you(1999)</td>\n",
       "      <td>/Users/Юля/Desktop/enlish/Subtitles_all/subtit...</td>\n",
       "      <td>10_things_I_hate_about_you(1999).srt</td>\n",
       "    </tr>\n",
       "    <tr>\n",
       "      <th>2</th>\n",
       "      <td>2</td>\n",
       "      <td>A_knights_tale(2001)</td>\n",
       "      <td>B2</td>\n",
       "      <td>A_knights_tale(2001)</td>\n",
       "      <td>/Users/Юля/Desktop/enlish/Subtitles_all/subtit...</td>\n",
       "      <td>A_knights_tale(2001).srt</td>\n",
       "    </tr>\n",
       "    <tr>\n",
       "      <th>3</th>\n",
       "      <td>3</td>\n",
       "      <td>A_star_is_born(2018)</td>\n",
       "      <td>B2</td>\n",
       "      <td>A_star_is_born(2018)</td>\n",
       "      <td>/Users/Юля/Desktop/enlish/Subtitles_all/subtit...</td>\n",
       "      <td>A_star_is_born(2018).srt</td>\n",
       "    </tr>\n",
       "    <tr>\n",
       "      <th>4</th>\n",
       "      <td>4</td>\n",
       "      <td>Aladdin(1992)</td>\n",
       "      <td>A2</td>\n",
       "      <td>Aladdin(1992)</td>\n",
       "      <td>/Users/Юля/Desktop/enlish/Subtitles_all/subtit...</td>\n",
       "      <td>Aladdin(1992).srt</td>\n",
       "    </tr>\n",
       "    <tr>\n",
       "      <th>...</th>\n",
       "      <td>...</td>\n",
       "      <td>...</td>\n",
       "      <td>...</td>\n",
       "      <td>...</td>\n",
       "      <td>...</td>\n",
       "      <td>...</td>\n",
       "    </tr>\n",
       "    <tr>\n",
       "      <th>236</th>\n",
       "      <td>236</td>\n",
       "      <td>Matilda(2022)</td>\n",
       "      <td>C1</td>\n",
       "      <td>Matilda(2022)</td>\n",
       "      <td></td>\n",
       "      <td></td>\n",
       "    </tr>\n",
       "    <tr>\n",
       "      <th>237</th>\n",
       "      <td>237</td>\n",
       "      <td>Bullet train</td>\n",
       "      <td>B1</td>\n",
       "      <td>Bullet train</td>\n",
       "      <td></td>\n",
       "      <td></td>\n",
       "    </tr>\n",
       "    <tr>\n",
       "      <th>238</th>\n",
       "      <td>238</td>\n",
       "      <td>Thor: love and thunder</td>\n",
       "      <td>B2</td>\n",
       "      <td>Thor: love and thunder</td>\n",
       "      <td></td>\n",
       "      <td></td>\n",
       "    </tr>\n",
       "    <tr>\n",
       "      <th>239</th>\n",
       "      <td>239</td>\n",
       "      <td>Lightyear</td>\n",
       "      <td>B2</td>\n",
       "      <td>Lightyear</td>\n",
       "      <td></td>\n",
       "      <td></td>\n",
       "    </tr>\n",
       "    <tr>\n",
       "      <th>240</th>\n",
       "      <td>240</td>\n",
       "      <td>The Grinch</td>\n",
       "      <td>B1</td>\n",
       "      <td>The Grinch</td>\n",
       "      <td></td>\n",
       "      <td></td>\n",
       "    </tr>\n",
       "  </tbody>\n",
       "</table>\n",
       "<p>241 rows × 6 columns</p>\n",
       "</div>"
      ],
      "text/plain": [
       "      id                             movie level  \\\n",
       "0      0         10_Cloverfield_lane(2016)    B1   \n",
       "1      1  10_things_I_hate_about_you(1999)    B1   \n",
       "2      2              A_knights_tale(2001)    B2   \n",
       "3      3              A_star_is_born(2018)    B2   \n",
       "4      4                     Aladdin(1992)    A2   \n",
       "..   ...                               ...   ...   \n",
       "236  236                     Matilda(2022)    C1   \n",
       "237  237                      Bullet train    B1   \n",
       "238  238            Thor: love and thunder    B2   \n",
       "239  239                         Lightyear    B2   \n",
       "240  240                        The Grinch    B1   \n",
       "\n",
       "                                 file  \\\n",
       "0           10_Cloverfield_lane(2016)   \n",
       "1    10_things_I_hate_about_you(1999)   \n",
       "2                A_knights_tale(2001)   \n",
       "3                A_star_is_born(2018)   \n",
       "4                       Aladdin(1992)   \n",
       "..                                ...   \n",
       "236                     Matilda(2022)   \n",
       "237                      Bullet train   \n",
       "238            Thor: love and thunder   \n",
       "239                         Lightyear   \n",
       "240                        The Grinch   \n",
       "\n",
       "                                             file_path  \\\n",
       "0    /Users/Юля/Desktop/enlish/Subtitles_all/subtit...   \n",
       "1    /Users/Юля/Desktop/enlish/Subtitles_all/subtit...   \n",
       "2    /Users/Юля/Desktop/enlish/Subtitles_all/subtit...   \n",
       "3    /Users/Юля/Desktop/enlish/Subtitles_all/subtit...   \n",
       "4    /Users/Юля/Desktop/enlish/Subtitles_all/subtit...   \n",
       "..                                                 ...   \n",
       "236                                                      \n",
       "237                                                      \n",
       "238                                                      \n",
       "239                                                      \n",
       "240                                                      \n",
       "\n",
       "                                file_name  \n",
       "0           10_Cloverfield_lane(2016).srt  \n",
       "1    10_things_I_hate_about_you(1999).srt  \n",
       "2                A_knights_tale(2001).srt  \n",
       "3                A_star_is_born(2018).srt  \n",
       "4                       Aladdin(1992).srt  \n",
       "..                                    ...  \n",
       "236                                        \n",
       "237                                        \n",
       "238                                        \n",
       "239                                        \n",
       "240                                        \n",
       "\n",
       "[241 rows x 6 columns]"
      ]
     },
     "execution_count": 584,
     "metadata": {},
     "output_type": "execute_result"
    }
   ],
   "source": [
    "\n",
    "labels.drop_duplicates()"
   ]
  },
  {
   "cell_type": "code",
   "execution_count": 585,
   "id": "0108ab6d",
   "metadata": {},
   "outputs": [],
   "source": [
    "# Кодируем целевую переменную\n",
    "targets = {\n",
    "           'A1':1, \n",
    "           'A2':2,\n",
    "           'B1':3,\n",
    "           'B2':4,\n",
    "           'C1':5,\n",
    "           'C2':6\n",
    "           }\n",
    "labels['target'] = labels['level'].apply(lambda x: targets[x])"
   ]
  },
  {
   "cell_type": "markdown",
   "id": "8f4dbe5f",
   "metadata": {},
   "source": [
    "## Парсинг субтитров"
   ]
  },
  {
   "cell_type": "code",
   "execution_count": 598,
   "id": "85aecdd9",
   "metadata": {
    "scrolled": true
   },
   "outputs": [
    {
     "data": {
      "text/html": [
       "<div>\n",
       "<style scoped>\n",
       "    .dataframe tbody tr th:only-of-type {\n",
       "        vertical-align: middle;\n",
       "    }\n",
       "\n",
       "    .dataframe tbody tr th {\n",
       "        vertical-align: top;\n",
       "    }\n",
       "\n",
       "    .dataframe thead th {\n",
       "        text-align: right;\n",
       "    }\n",
       "</style>\n",
       "<table border=\"1\" class=\"dataframe\">\n",
       "  <thead>\n",
       "    <tr style=\"text-align: right;\">\n",
       "      <th></th>\n",
       "      <th>id</th>\n",
       "      <th>movie</th>\n",
       "      <th>level</th>\n",
       "      <th>file</th>\n",
       "      <th>file_path</th>\n",
       "      <th>file_name</th>\n",
       "      <th>target</th>\n",
       "    </tr>\n",
       "  </thead>\n",
       "  <tbody>\n",
       "    <tr>\n",
       "      <th>0</th>\n",
       "      <td>0</td>\n",
       "      <td>10_Cloverfield_lane(2016)</td>\n",
       "      <td>B1</td>\n",
       "      <td>10_Cloverfield_lane(2016)</td>\n",
       "      <td>/Users/Юля/Desktop/enlish/Subtitles_all/subtit...</td>\n",
       "      <td>10_Cloverfield_lane(2016).srt</td>\n",
       "      <td>3</td>\n",
       "    </tr>\n",
       "    <tr>\n",
       "      <th>1</th>\n",
       "      <td>1</td>\n",
       "      <td>10_things_I_hate_about_you(1999)</td>\n",
       "      <td>B1</td>\n",
       "      <td>10_things_I_hate_about_you(1999)</td>\n",
       "      <td>/Users/Юля/Desktop/enlish/Subtitles_all/subtit...</td>\n",
       "      <td>10_things_I_hate_about_you(1999).srt</td>\n",
       "      <td>3</td>\n",
       "    </tr>\n",
       "  </tbody>\n",
       "</table>\n",
       "</div>"
      ],
      "text/plain": [
       "   id                             movie level  \\\n",
       "0   0         10_Cloverfield_lane(2016)    B1   \n",
       "1   1  10_things_I_hate_about_you(1999)    B1   \n",
       "\n",
       "                               file  \\\n",
       "0         10_Cloverfield_lane(2016)   \n",
       "1  10_things_I_hate_about_you(1999)   \n",
       "\n",
       "                                           file_path  \\\n",
       "0  /Users/Юля/Desktop/enlish/Subtitles_all/subtit...   \n",
       "1  /Users/Юля/Desktop/enlish/Subtitles_all/subtit...   \n",
       "\n",
       "                              file_name  target  \n",
       "0         10_Cloverfield_lane(2016).srt       3  \n",
       "1  10_things_I_hate_about_you(1999).srt       3  "
      ]
     },
     "execution_count": 598,
     "metadata": {},
     "output_type": "execute_result"
    }
   ],
   "source": [
    "labels.head(2)"
   ]
  },
  {
   "cell_type": "code",
   "execution_count": 600,
   "id": "a43e2864",
   "metadata": {},
   "outputs": [],
   "source": [
    "wnl = WordNetLemmatizer()"
   ]
  },
  {
   "cell_type": "code",
   "execution_count": 601,
   "id": "746b29d3",
   "metadata": {},
   "outputs": [],
   "source": [
    "def sub_processing(filename):\n",
    "    \"\"\" Принимаем имя файла субтитров\n",
    "        Возвращаем список параметров расчитаных на основе обработки файла\n",
    "    \"\"\"\n",
    "    # читаем файл субтитров\n",
    "    try:\n",
    "        subs = pysrt.open('/Users/Юля/Desktop/enlish/Subtitles_all/subtitles_all/'+ filename)\n",
    "    except:\n",
    "        subs = pysrt.open('/Users/Юля/Desktop/enlish/Subtitles_all/subtitles_all/'+ filename, encoding='latin-1')\n",
    "        #'/Users/Юля/enlish/Subtitles_all/subtitles_all/'\n",
    "        \n",
    "    # Время начала фильма\n",
    "    film_start = subs[0].start.hours*3600 + subs[0].start.minutes*60 + subs[0].start.seconds\n",
    "    # Время окончания фильма\n",
    "    if subs[-1].index - subs[-2].index < 2:\n",
    "        film_end = subs[-1].end.hours*3600 + subs[-1].end.minutes*60 + subs[-1].end.seconds\n",
    "    else:\n",
    "        film_end = subs[-2].end.hours*3600 + subs[-2].end.minutes*60 + subs[-2].end.seconds\\\n",
    "    # Продолжительность фильма\n",
    "    film_start, film_end = min(film_start, film_end), max(film_start, film_end)\n",
    "    film_lenght = film_end - film_start\n",
    "        \n",
    "    # Очистка текста\n",
    "    # text = re.sub('<i>|</i>', '', subs.text)\n",
    "    text = re.sub('\\<.*?\\>', '', subs.text)      # удаляем то что в скобках <>\n",
    "    text = re.sub('\\n', ' ', text)               # удаляем разделители строк    \n",
    "    # text = re.sub('<font.*?font>', '', text)\n",
    "    text = re.sub('\\(.*?\\)', '', text)           # удаляем то что в скобках ()    \n",
    "    text = re.sub('\\[.*?\\]', '', text)           # удаляем то что в скобках []\n",
    "    text = re.sub('[A-Z]+?:', '', text)          # удаляем слова написанные заглавными буквами с двоеточием(это имена тех кто говорит)\n",
    "    text = re.sub('\\.+?:', '\\.', text)           # Заменяем троеточия на одну точку\n",
    "    text = text.lower()\n",
    "    text = re.sub('[^a-z\\.\\!\\?]', ' ', text)     # удаляем всё что не буквы и не .?!\n",
    "    text = re.sub(' +', ' ', text)               # удаляем \" +\"\n",
    "    # text = re.sub(r'\\n ', '', text)\n",
    "     \n",
    "    # Количество предложений\n",
    "    num_sentence = len(re.split('[\\.\\?\\!]', text))\n",
    "    \n",
    "    # морфологический разбор\n",
    "    morphs = [_[1] for _ in nltk.pos_tag(re.sub('\\n', ' ', text).lower().split(' '))]\n",
    "    # Герундий\n",
    "    gerund = morphs.count('VBG')\n",
    "    \n",
    "    text_no_preproc = text\n",
    "    text = re.sub('[^a-z]', ' ', text)     # удаляем всё что не буквы\n",
    "    \n",
    "    # ищем идиомы\n",
    "    num_idioms = 0\n",
    "    for idiom in df_idioms['lem_idiom']:\n",
    "        match = re.finditer(fr'{idiom}', text)\n",
    "        num_idioms += len([_ for _ in match])\n",
    "    \n",
    "    # Количество символов\n",
    "    text_len = len(text)\n",
    "    # Букв в секунду\n",
    "    sumb_persecond = text_len / film_lenght\n",
    "    \n",
    "    # # Избавимся от стоп-слов\n",
    "    # for stop_word in nltk_stopwords.words('english'):\n",
    "    #     text = re.sub(f' {stop_word} ', ' ', text)\n",
    "        \n",
    "    # удалим однобуквенные слова\n",
    "    text = re.sub(' [a-z] ', ' ', text)\n",
    "    text = re.sub(' [a-z] ', ' ', text)\n",
    "    text = re.sub(' [a-z] ', ' ', text)\n",
    "    \n",
    "    text_no_lem = text\n",
    "    \n",
    "     # Список уникальных слов\n",
    "    words = text.split(' ')\n",
    "    words_unique = []\n",
    "    for word in words:\n",
    "        if word not in words_unique:\n",
    "            words_unique.append(word)\n",
    "    \n",
    "    sumb_perword = (text_len - len(words)) / len(words)\n",
    "        \n",
    "    # Расчитаем количество слов разной сложности в фильме \n",
    "    difficulty = {'A1':0,\n",
    "                  'A2':0,\n",
    "                  'B1':0,\n",
    "                  'B2':0,\n",
    "                  'C1':0,\n",
    "                  'C2':0\n",
    "                 }\n",
    "    \n",
    "    for word in words_unique:\n",
    "        match = df_words[df_words['word'] == word]['diff'].values\n",
    "        if len(match) > 0:\n",
    "            for dif in match:\n",
    "                difficulty[dif] += 1\n",
    "       \n",
    "   \n",
    "    text = ' '.join([wnl.lemmatize(word, wordnet.VERB) for word in text.split(' ')])\n",
    "    \n",
    "    # Посчитаем продолжительность всех фраз\n",
    "    phrases_lenght = 0\n",
    "    for sub in subs:\n",
    "         # Время начала фразы\n",
    "        phrase_start = sub.start.hours*3600 + sub.start.minutes*60 + sub.start.seconds\n",
    "        # Время окончания фразы\n",
    "        phrase_end = sub.end.hours*3600 + sub.end.minutes*60 + sub.end.seconds\n",
    "        # Продолжительность фразы\n",
    "        phrases_lenght += max(0, phrase_end - phrase_start)\n",
    "    \n",
    "    sumb_persecond_frases = text_len / phrases_lenght\n",
    "    \n",
    "    # Возвращаем результаты\n",
    "    return [film_lenght,\n",
    "            text_len, \n",
    "            len(text),\n",
    "            sumb_persecond, \n",
    "            phrases_lenght,\n",
    "            sumb_persecond_frases,\n",
    "            sumb_perword,\n",
    "            max(num_sentence, len(subs)),\n",
    "            len(words) / max(num_sentence, len(subs)),\n",
    "            difficulty['A1']/len(words_unique),\n",
    "            difficulty['A2']/len(words_unique),\n",
    "            difficulty['B1']/len(words_unique),\n",
    "            difficulty['B2']/len(words_unique),\n",
    "            difficulty['C1']/len(words_unique),\n",
    "            difficulty['C2']/len(words_unique),\n",
    "            len(subs),\n",
    "            len(words_unique) / len(subs),\n",
    "            len(words),\n",
    "            len(words_unique),\n",
    "            len(words_unique) / film_lenght,\n",
    "            len(words_unique) / len(words),\n",
    "            textstat.flesch_reading_ease(text_no_preproc),\n",
    "            textstat.flesch_kincaid_grade(text_no_preproc),\n",
    "            textstat.smog_index(text_no_preproc),\n",
    "            textstat.coleman_liau_index(text_no_preproc),\n",
    "            textstat.automated_readability_index(text_no_preproc),\n",
    "            textstat.dale_chall_readability_score(text_no_preproc),\n",
    "            textstat.difficult_words(text_no_preproc),\n",
    "            textstat.linsear_write_formula(text_no_preproc),\n",
    "            textstat.gunning_fog(text_no_preproc),\n",
    "            textstat.text_standard(text_no_preproc),\n",
    "            textstat.fernandez_huerta(text_no_preproc),\n",
    "            textstat.szigriszt_pazos(text_no_preproc),\n",
    "            textstat.gutierrez_polini(text_no_preproc),\n",
    "            textstat.crawford(text_no_preproc),\n",
    "            textstat.gulpease_index(text_no_preproc),\n",
    "            textstat.osman(text_no_preproc),\n",
    "            num_idioms,\n",
    "            gerund,\n",
    "            gerund / num_sentence, \n",
    "            text,\n",
    "            text_no_lem,\n",
    "            ' '.join(morphs)\n",
    "           ]"
   ]
  },
  {
   "cell_type": "code",
   "execution_count": null,
   "id": "711a6f9e",
   "metadata": {},
   "outputs": [],
   "source": [
    "%%time\n",
    "new_columns = ['film_lenght', \n",
    "               'text_len', \n",
    "               'lematise_text_len', \n",
    "               'sumb_persecond',\n",
    "               'phrases_lenght',\n",
    "               'sumb_persecond_frases',\n",
    "               'sumb_perword',\n",
    "               'num_sentence',\n",
    "               'word_persentence',\n",
    "               'A1',\n",
    "               'A2',\n",
    "               'B1',\n",
    "               'B2',\n",
    "               'C1',\n",
    "               'C2',\n",
    "               'phrases_count',\n",
    "               'words_unique_perphrase', \n",
    "               'words_count',\n",
    "               'words_unique_count',\n",
    "               'words_unique_persecond',\n",
    "               'lexical_diversity',\n",
    "               'flesch_reading_ease',\n",
    "               'flesch_kincaid_grade',\n",
    "               'smog_index',\n",
    "               'coleman_liau_index',\n",
    "               'automated_readability_index',\n",
    "               'dale_chall_readability_score',\n",
    "               'difficult_words',\n",
    "               'linsear_write_formula',\n",
    "               'gunning_fog',\n",
    "               'text_standard',\n",
    "               'fernandez_huerta',\n",
    "               'szigriszt_pazos',\n",
    "               'gutierrez_polini',\n",
    "               'crawford',\n",
    "               'gulpease_index',\n",
    "               'osman',\n",
    "               'num_idioms',\n",
    "                'gerund',\n",
    "                'gerund_persentence', \n",
    "               'text',\n",
    "               'text_no_lem',\n",
    "               'morphs'\n",
    "              ]\n",
    "\n",
    "labels.loc[~labels['file_name'].isna(), new_columns] = [_ for _ in labels.loc[~labels['file_name'].isna(), 'file_name'].apply(sub_processing)]\n",
    "labels.head()"
   ]
  },
  {
   "cell_type": "code",
   "execution_count": null,
   "id": "08b39d71",
   "metadata": {},
   "outputs": [],
   "source": [
    "labels['avg_dificulty'] = labels[['A1','A2','B1','B2','C1','C2']].apply(lambda x: np.mean([x['A1'], x['A2']*1.5, x['B1']*5, x['B2']*50, x['C1']*500, x['C2']*750]) ,axis=1)\n"
   ]
  },
  {
   "cell_type": "code",
   "execution_count": null,
   "id": "07d65a0a",
   "metadata": {},
   "outputs": [],
   "source": [
    "labels['idioms_persentence'] = labels['num_idioms'] / labels['num_sentence'] "
   ]
  },
  {
   "cell_type": "markdown",
   "id": "b6f9b6a9",
   "metadata": {},
   "source": [
    "**Вывод:**\n",
    "\n",
    "Файлы субтитров обработаны. Извлечены признаки из текста субтитров.\n",
    "\n"
   ]
  },
  {
   "cell_type": "markdown",
   "id": "c8bb1e39",
   "metadata": {},
   "source": [
    "## Анализ данных"
   ]
  },
  {
   "cell_type": "markdown",
   "id": "f3510a4a",
   "metadata": {},
   "source": [
    "проанализируем полученные признаки"
   ]
  },
  {
   "cell_type": "code",
   "execution_count": null,
   "id": "0a0e43b9",
   "metadata": {},
   "outputs": [],
   "source": [
    "#pivot_table = labels[labels['level'].isin(['A1', 'A2', 'B1', 'B2', 'C1', 'C2'])].groupby('level').mean()\n",
    "#pivot_table"
   ]
  },
  {
   "cell_type": "code",
   "execution_count": null,
   "id": "379b66bc",
   "metadata": {},
   "outputs": [],
   "source": [
    "#plt.rcParams['figure.figsize']=(30,30)\n",
    "#sns.heatmap(labels[labels['target'] != 0].corr(), square=True, annot=True);"
   ]
  },
  {
   "cell_type": "code",
   "execution_count": null,
   "id": "7d65d032",
   "metadata": {},
   "outputs": [],
   "source": [
    "#sns.pairplot(data=labels[['A1','A2','B1','B2','C1','C2','target']], hue='target');"
   ]
  },
  {
   "cell_type": "markdown",
   "id": "1c664b89",
   "metadata": {},
   "source": [
    "## Построение модели машинного обучения"
   ]
  },
  {
   "cell_type": "markdown",
   "id": "f438595b",
   "metadata": {},
   "source": [
    "Модель: CatBoostClassifier\n",
    "Набор признаков:\n",
    "- phrases_lenght - средняя длина фразы\n",
    "- B2 - доля уникальных слов сложности B2\n",
    "- coleman_liau_index - уровень качества текста по формуле Коулмана-Лиау\n",
    "- word_persentence - среднее количество слов во фразе\n",
    "- gulpease_index - индекс текста Gulpease(вообще он для итальянского текста, но подошел и к английскому)\n",
    "- gerund_persentence - среднее количество герундия во фразе\n",
    "- words_unique_perphrase - среднее количество уникальных слов во фразе\n",
    "- words_unique_persecond - среднее количество уникальных слов в секунду\n",
    "- phrases_count - количество фраз в тексте\n",
    "- avg_dificulty - средняя сложность слов\n",
    "- idioms_persentence - среднее количество идиом во фразе\n",
    "\n",
    "Кодировка текста производилась внутренним алгоритмом модели CatBoostClassifier. А в качестве текста выступали морфологические формы слов."
   ]
  },
  {
   "cell_type": "markdown",
   "id": "76164ba9",
   "metadata": {},
   "source": [
    "### Подготовка выборок"
   ]
  },
  {
   "cell_type": "markdown",
   "id": "8c0a38a1",
   "metadata": {},
   "source": [
    "Разделим датасет на тренировочную и тестовую выборки.\n",
    "Обучим модель и подберём гиперпараметры\n",
    "Протестируем модель"
   ]
  },
  {
   "cell_type": "code",
   "execution_count": null,
   "id": "2a3ed932",
   "metadata": {},
   "outputs": [],
   "source": [
    "effective_features =[\n",
    "        'movie',\n",
    "        'phrases_lenght', \n",
    "        'B2', \n",
    "        'coleman_liau_index', \n",
    "        'word_persentence', \n",
    "        'gulpease_index', \n",
    "        'gerund_persentence', \n",
    "        'words_unique_perphrase', \n",
    "        'words_unique_persecond',\n",
    "        'phrases_count',\n",
    "        'target',\n",
    "        'avg_dificulty',\n",
    "        'idioms_persentence',\n",
    "]"
   ]
  },
  {
   "cell_type": "code",
   "execution_count": null,
   "id": "f86c3098",
   "metadata": {},
   "outputs": [],
   "source": [
    "features = labels[effective_features].set_index('movie').copy()\n",
    "\n",
    "X = features.drop(columns=['target'])\n",
    "y = features['target']"
   ]
  },
  {
   "cell_type": "code",
   "execution_count": null,
   "id": "ad8d6069",
   "metadata": {},
   "outputs": [],
   "source": [
    "X_train, X_tv, y_train, y_tv = train_test_split(X, y, test_size=0.2, random_state=RANDOM_STATE)\n",
    "X_valid, X_test, y_valid, y_test = train_test_split(X_tv, y_tv, test_size=0.5, random_state=RANDOM_STATE)\n",
    "print('Размер тренировочной выборки - {:.0%}'.format(X_train.shape[0]/X.shape[0]))\n",
    "print('Размер валидационной выборки - {:.0%}'.format(X_valid.shape[0]/X.shape[0]))\n",
    "print('Размер тестовой выборки - {:.0%}'.format(X_test.shape[0]/y.shape[0]))"
   ]
  },
  {
   "cell_type": "code",
   "execution_count": null,
   "id": "2439e292",
   "metadata": {},
   "outputs": [],
   "source": [
    "# Для модели CatBoostClassifier сформируем пулы\n",
    "# Тренировочный пул\n",
    "train_pool = Pool(data=X_train,\n",
    "                  label=y_train,\n",
    "                 )\n",
    "# Валидационный пул\n",
    "valid_pool = Pool(data=X_valid,\n",
    "                   label=y_valid,\n",
    "                  )\n",
    "# Тестовый пул\n",
    "test_pool = Pool(data=X_test,\n",
    "                   label=y_test,\n",
    "                  )\n",
    "\n",
    "# Тренировочный + Валидационный пул\n",
    "learn_pool = Pool(data=pd.concat([X_train, X_valid]),\n",
    "                  label=pd.concat([y_train, y_valid])\n",
    "                 )"
   ]
  },
  {
   "cell_type": "markdown",
   "id": "cda0dea4",
   "metadata": {},
   "source": [
    "Так как датасет имеет совсем небольшой размер, модель градиентного бустинга очень легко переобучается. Поэтому было решено в качестве индикатора переобучения использовать валидационную выборку."
   ]
  },
  {
   "cell_type": "code",
   "execution_count": null,
   "id": "68f9ea17",
   "metadata": {},
   "outputs": [],
   "source": [
    "def fit_model(train_pool, valid_pool, **kwargs):\n",
    "    \"\"\" Принимаем тренировочный и тестовый пул, а также параметры модели.\n",
    "        Возвращаем обученную модель\n",
    "    \"\"\"\n",
    "    model = CatBoostClassifier(\n",
    "                               eval_metric='TotalF1',\n",
    "                               od_type='Iter',\n",
    "                               od_wait=500,\n",
    "                               tokenizers=\n",
    "                                     [{'tokenizer_id': 'Sense',\n",
    "                                       'separator_type': 'BySense',\n",
    "                                       'lowercasing': 'True',\n",
    "                                       'token_types':['Word', 'Number', 'SentenceBreak'],\n",
    "                                       'sub_tokens_policy':'SeveralTokens'\n",
    "                                      }],\n",
    "                                     dictionaries = [{'dictionary_id': 'Word','max_dictionary_size': '1000'}],\n",
    "                                     feature_calcers = ['BoW:top_tokens_count=1000'],\n",
    "                               **kwargs\n",
    "                              )\n",
    "    return model.fit(train_pool,\n",
    "                     eval_set=valid_pool,\n",
    "                     verbose=100,\n",
    "                     plot=True,\n",
    "                     use_best_model=True)"
   ]
  },
  {
   "cell_type": "code",
   "execution_count": null,
   "id": "9cdfb144",
   "metadata": {},
   "outputs": [],
   "source": [
    "%%time\n",
    "# Обучаем модель\n",
    "model = fit_model(train_pool,\n",
    "                  valid_pool,\n",
    "                  learning_rate=0.1,\n",
    "                  n_estimators=200,\n",
    "                  max_depth=10,\n",
    "                  l2_leaf_reg=1e-08\n",
    "                )"
   ]
  },
  {
   "cell_type": "code",
   "execution_count": null,
   "id": "629843ff",
   "metadata": {},
   "outputs": [],
   "source": [
    "preds = model.predict(valid_pool)\n",
    "accuracy_score(preds, y_valid)"
   ]
  },
  {
   "cell_type": "markdown",
   "id": "add422db",
   "metadata": {},
   "source": [
    "## Тестирование модели"
   ]
  },
  {
   "cell_type": "markdown",
   "id": "91ec8769",
   "metadata": {},
   "source": [
    "- Протестируем модель на тестовой выборке и сохраним обученную модель для дальнейшего использования в скрипте микросервиса.\n",
    "- Сравним работу модели с фиктивной моделью.\n",
    "- Оценим важность признаков"
   ]
  },
  {
   "cell_type": "code",
   "execution_count": null,
   "id": "dcfcd6f7",
   "metadata": {},
   "outputs": [],
   "source": [
    "preds = model.predict(test_pool)\n",
    "accuracy_score(preds, y_test)"
   ]
  },
  {
   "cell_type": "code",
   "execution_count": null,
   "id": "f69d0183",
   "metadata": {},
   "outputs": [],
   "source": [
    "%%time\n",
    "# Обучаем модель\n",
    "model = fit_model(learn_pool,\n",
    "                  test_pool,\n",
    "                  learning_rate=0.1,\n",
    "                  n_estimators=200,\n",
    "                  max_depth=10,\n",
    "                  l2_leaf_reg=1e-08\n",
    "                 )"
   ]
  },
  {
   "cell_type": "code",
   "execution_count": null,
   "id": "1af1277c",
   "metadata": {},
   "outputs": [],
   "source": [
    "# Сохраним обученную модель для дальнейшего использования\n",
    "model.save_model('catboostclassifier_model.cbm')"
   ]
  }
 ],
 "metadata": {
  "kernelspec": {
   "display_name": "Python 3 (ipykernel)",
   "language": "python",
   "name": "python3"
  },
  "language_info": {
   "codemirror_mode": {
    "name": "ipython",
    "version": 3
   },
   "file_extension": ".py",
   "mimetype": "text/x-python",
   "name": "python",
   "nbconvert_exporter": "python",
   "pygments_lexer": "ipython3",
   "version": "3.9.12"
  },
  "papermill": {
   "default_parameters": {},
   "duration": 136.799288,
   "end_time": "2023-03-03T10:18:12.766768",
   "environment_variables": {},
   "exception": null,
   "input_path": "__notebook__.ipynb",
   "output_path": "__notebook__.ipynb",
   "parameters": {},
   "start_time": "2023-03-03T10:15:55.967480",
   "version": "2.3.4"
  },
  "vscode": {
   "interpreter": {
    "hash": "aee8b7b246df8f9039afb4144a1f6fd8d2ca17a180786b69acc140d282b71a49"
   }
  }
 },
 "nbformat": 4,
 "nbformat_minor": 5
}
